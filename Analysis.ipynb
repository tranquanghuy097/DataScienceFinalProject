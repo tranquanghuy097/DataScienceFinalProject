{
 "cells": [
  {
   "cell_type": "code",
   "execution_count": 1,
   "metadata": {},
   "outputs": [],
   "source": [
    "%matplotlib inline\n",
    "import matplotlib.pyplot as plt\n",
    "import seaborn as sns # seaborn là thư viện được xây trên matplotlib, giúp việc visualization đỡ khổ hơn\n",
    "import pandas as pd\n",
    "import numpy as np\n",
    "\n",
    "from sklearn.model_selection import train_test_split\n",
    "from sklearn.preprocessing import OneHotEncoder, StandardScaler\n",
    "from sklearn.impute import SimpleImputer\n",
    "from sklearn.base import BaseEstimator, TransformerMixin\n",
    "from sklearn.pipeline import Pipeline, make_pipeline\n",
    "from sklearn.compose import ColumnTransformer, make_column_transformer\n",
    "from sklearn.neural_network import MLPClassifier"
   ]
  },
  {
   "cell_type": "code",
   "execution_count": 21,
   "metadata": {},
   "outputs": [
    {
     "data": {
      "text/html": [
       "<div>\n",
       "<style scoped>\n",
       "    .dataframe tbody tr th:only-of-type {\n",
       "        vertical-align: middle;\n",
       "    }\n",
       "\n",
       "    .dataframe tbody tr th {\n",
       "        vertical-align: top;\n",
       "    }\n",
       "\n",
       "    .dataframe thead th {\n",
       "        text-align: right;\n",
       "    }\n",
       "</style>\n",
       "<table border=\"1\" class=\"dataframe\">\n",
       "  <thead>\n",
       "    <tr style=\"text-align: right;\">\n",
       "      <th></th>\n",
       "      <th>Unnamed: 0</th>\n",
       "      <th>title</th>\n",
       "      <th>author</th>\n",
       "      <th>genre</th>\n",
       "      <th>format</th>\n",
       "      <th>num_of_pages</th>\n",
       "      <th>language</th>\n",
       "      <th>good</th>\n",
       "    </tr>\n",
       "  </thead>\n",
       "  <tbody>\n",
       "    <tr>\n",
       "      <th>0</th>\n",
       "      <td>0</td>\n",
       "      <td>To Kill a Mockingbird</td>\n",
       "      <td>Harper Lee</td>\n",
       "      <td>Classics</td>\n",
       "      <td>Paperback</td>\n",
       "      <td>324</td>\n",
       "      <td>English</td>\n",
       "      <td>True</td>\n",
       "    </tr>\n",
       "    <tr>\n",
       "      <th>1</th>\n",
       "      <td>1</td>\n",
       "      <td>Harry Potter and the Sorcerer's Stone</td>\n",
       "      <td>J.K. Rowling</td>\n",
       "      <td>Fantasy</td>\n",
       "      <td>Hardcover</td>\n",
       "      <td>322</td>\n",
       "      <td>English</td>\n",
       "      <td>True</td>\n",
       "    </tr>\n",
       "    <tr>\n",
       "      <th>2</th>\n",
       "      <td>2</td>\n",
       "      <td>1984</td>\n",
       "      <td>George Orwell</td>\n",
       "      <td>Classics</td>\n",
       "      <td>Mass Market Paperback</td>\n",
       "      <td>328</td>\n",
       "      <td>English</td>\n",
       "      <td>True</td>\n",
       "    </tr>\n",
       "    <tr>\n",
       "      <th>3</th>\n",
       "      <td>3</td>\n",
       "      <td>Pride and Prejudice</td>\n",
       "      <td>Jane Austen</td>\n",
       "      <td>Classics</td>\n",
       "      <td>Paperback</td>\n",
       "      <td>279</td>\n",
       "      <td>English</td>\n",
       "      <td>True</td>\n",
       "    </tr>\n",
       "    <tr>\n",
       "      <th>4</th>\n",
       "      <td>4</td>\n",
       "      <td>The Diary of a Young Girl</td>\n",
       "      <td>Anne Frank</td>\n",
       "      <td>Nonfiction</td>\n",
       "      <td>Mass Market Paperback</td>\n",
       "      <td>283</td>\n",
       "      <td>English</td>\n",
       "      <td>True</td>\n",
       "    </tr>\n",
       "  </tbody>\n",
       "</table>\n",
       "</div>"
      ],
      "text/plain": [
       "   Unnamed: 0                                  title         author  \\\n",
       "0           0                  To Kill a Mockingbird     Harper Lee   \n",
       "1           1  Harry Potter and the Sorcerer's Stone   J.K. Rowling   \n",
       "2           2                                   1984  George Orwell   \n",
       "3           3                    Pride and Prejudice    Jane Austen   \n",
       "4           4              The Diary of a Young Girl     Anne Frank   \n",
       "\n",
       "        genre                 format  num_of_pages language  good  \n",
       "0    Classics              Paperback           324  English  True  \n",
       "1     Fantasy              Hardcover           322  English  True  \n",
       "2    Classics  Mass Market Paperback           328  English  True  \n",
       "3    Classics              Paperback           279  English  True  \n",
       "4  Nonfiction  Mass Market Paperback           283  English  True  "
      ]
     },
     "execution_count": 21,
     "metadata": {},
     "output_type": "execute_result"
    }
   ],
   "source": [
    "data_df = pd.read_csv('train.csv')\n",
    "data_df.head()"
   ]
  },
  {
   "cell_type": "code",
   "execution_count": 22,
   "metadata": {},
   "outputs": [
    {
     "name": "stdout",
     "output_type": "stream",
     "text": [
      "<class 'pandas.core.frame.DataFrame'>\n",
      "RangeIndex: 3598 entries, 0 to 3597\n",
      "Data columns (total 8 columns):\n",
      "Unnamed: 0      3598 non-null int64\n",
      "title           3596 non-null object\n",
      "author          3596 non-null object\n",
      "genre           3491 non-null object\n",
      "format          3572 non-null object\n",
      "num_of_pages    3598 non-null int64\n",
      "language        3406 non-null object\n",
      "good            3598 non-null bool\n",
      "dtypes: bool(1), int64(2), object(5)\n",
      "memory usage: 200.4+ KB\n"
     ]
    }
   ],
   "source": [
    "data_df.info()"
   ]
  },
  {
   "cell_type": "code",
   "execution_count": 23,
   "metadata": {},
   "outputs": [],
   "source": [
    "y_sr = data_df[\"good\"] # sr là viết tắt của series\n",
    "X_df = data_df.drop(\"good\", axis=1)"
   ]
  },
  {
   "cell_type": "code",
   "execution_count": 24,
   "metadata": {},
   "outputs": [
    {
     "data": {
      "text/plain": [
       "Int64Index([9, 3497, 1720, 3289, 1374], dtype='int64')"
      ]
     },
     "execution_count": 24,
     "metadata": {},
     "output_type": "execute_result"
    }
   ],
   "source": [
    "train_X_df, val_X_df, train_y_sr, val_y_sr = train_test_split(X_df, y_sr, test_size=0.3, \n",
    "                                                              stratify=y_sr, random_state=0)\n",
    "\n",
    "train_X_df.head().index"
   ]
  },
  {
   "cell_type": "code",
   "execution_count": 25,
   "metadata": {},
   "outputs": [
    {
     "name": "stdout",
     "output_type": "stream",
     "text": [
      "<class 'pandas.core.frame.DataFrame'>\n",
      "Int64Index: 2518 entries, 9 to 1442\n",
      "Data columns (total 7 columns):\n",
      "Unnamed: 0      2518 non-null int64\n",
      "title           2516 non-null object\n",
      "author          2516 non-null object\n",
      "genre           2444 non-null object\n",
      "format          2497 non-null object\n",
      "num_of_pages    2518 non-null int64\n",
      "language        2384 non-null object\n",
      "dtypes: int64(2), object(5)\n",
      "memory usage: 157.4+ KB\n"
     ]
    }
   ],
   "source": [
    "train_X_df.info()"
   ]
  },
  {
   "cell_type": "code",
   "execution_count": 26,
   "metadata": {},
   "outputs": [
    {
     "name": "stdout",
     "output_type": "stream",
     "text": [
      "<class 'pandas.core.frame.DataFrame'>\n",
      "Int64Index: 1080 entries, 861 to 3491\n",
      "Data columns (total 7 columns):\n",
      "Unnamed: 0      1080 non-null int64\n",
      "title           1080 non-null object\n",
      "author          1080 non-null object\n",
      "genre           1047 non-null object\n",
      "format          1075 non-null object\n",
      "num_of_pages    1080 non-null int64\n",
      "language        1022 non-null object\n",
      "dtypes: int64(2), object(5)\n",
      "memory usage: 67.5+ KB\n"
     ]
    }
   ],
   "source": [
    "val_X_df.info()"
   ]
  },
  {
   "cell_type": "code",
   "execution_count": 27,
   "metadata": {},
   "outputs": [],
   "source": [
    "class ColAdderDropper(BaseEstimator, TransformerMixin):\n",
    "    def fit(self, X_df, y=None):\n",
    "        return self\n",
    "    def transform(self, X_df, y=None):\n",
    "        # YOUR CODE HERE\n",
    "        new_X = X_df.drop(columns=['title', 'author', 'Unnamed: 0'])\n",
    "        return new_X"
   ]
  },
  {
   "cell_type": "code",
   "execution_count": 29,
   "metadata": {},
   "outputs": [
    {
     "data": {
      "text/html": [
       "<div>\n",
       "<style scoped>\n",
       "    .dataframe tbody tr th:only-of-type {\n",
       "        vertical-align: middle;\n",
       "    }\n",
       "\n",
       "    .dataframe tbody tr th {\n",
       "        vertical-align: top;\n",
       "    }\n",
       "\n",
       "    .dataframe thead th {\n",
       "        text-align: right;\n",
       "    }\n",
       "</style>\n",
       "<table border=\"1\" class=\"dataframe\">\n",
       "  <thead>\n",
       "    <tr style=\"text-align: right;\">\n",
       "      <th></th>\n",
       "      <th>genre</th>\n",
       "      <th>format</th>\n",
       "      <th>num_of_pages</th>\n",
       "      <th>language</th>\n",
       "    </tr>\n",
       "  </thead>\n",
       "  <tbody>\n",
       "    <tr>\n",
       "      <th>9</th>\n",
       "      <td>Fantasy</td>\n",
       "      <td>Paperback</td>\n",
       "      <td>1216</td>\n",
       "      <td>English</td>\n",
       "    </tr>\n",
       "    <tr>\n",
       "      <th>3497</th>\n",
       "      <td>NaN</td>\n",
       "      <td>Kindle Edition</td>\n",
       "      <td>277</td>\n",
       "      <td>English</td>\n",
       "    </tr>\n",
       "    <tr>\n",
       "      <th>1720</th>\n",
       "      <td>Fiction</td>\n",
       "      <td>Kindle Edition</td>\n",
       "      <td>371</td>\n",
       "      <td>English</td>\n",
       "    </tr>\n",
       "    <tr>\n",
       "      <th>3289</th>\n",
       "      <td>Classics</td>\n",
       "      <td>Paperback</td>\n",
       "      <td>660</td>\n",
       "      <td>English</td>\n",
       "    </tr>\n",
       "    <tr>\n",
       "      <th>1374</th>\n",
       "      <td>Fiction</td>\n",
       "      <td>Paperback</td>\n",
       "      <td>302</td>\n",
       "      <td>English</td>\n",
       "    </tr>\n",
       "  </tbody>\n",
       "</table>\n",
       "</div>"
      ],
      "text/plain": [
       "         genre          format  num_of_pages language\n",
       "9      Fantasy       Paperback          1216  English\n",
       "3497       NaN  Kindle Edition           277  English\n",
       "1720   Fiction  Kindle Edition           371  English\n",
       "3289  Classics       Paperback           660  English\n",
       "1374   Fiction       Paperback           302  English"
      ]
     },
     "execution_count": 29,
     "metadata": {},
     "output_type": "execute_result"
    }
   ],
   "source": [
    "col_adderdropper = ColAdderDropper()\n",
    "fewer_cols_train_X_df = col_adderdropper.transform(train_X_df)\n",
    "fewer_cols_train_X_df.head()"
   ]
  },
  {
   "cell_type": "code",
   "execution_count": 32,
   "metadata": {},
   "outputs": [],
   "source": [
    "cols = ['genre', 'format', 'language']\n",
    "# YOUR CODE HERE\n",
    "preprocess = make_column_transformer(\n",
    "    (make_pipeline(SimpleImputer(missing_values=np.nan, strategy='most_frequent'), OneHotEncoder(handle_unknown='ignore')), cols)\n",
    ")\n",
    "scaler = StandardScaler(with_mean=False)\n",
    "col_adderdropper = ColAdderDropper()\n",
    "mlpclassifier = MLPClassifier(hidden_layer_sizes=(20), activation='tanh', solver='lbfgs', random_state=0, max_iter=500)\n",
    "full_pipeline = make_pipeline(col_adderdropper, preprocess, scaler, mlpclassifier)"
   ]
  },
  {
   "cell_type": "code",
   "execution_count": 38,
   "metadata": {},
   "outputs": [
    {
     "data": {
      "text/plain": [
       "'Finish!'"
      ]
     },
     "execution_count": 38,
     "metadata": {},
     "output_type": "execute_result"
    }
   ],
   "source": [
    "train_errs = []\n",
    "val_errs = []\n",
    "alphas = [0.0001, 0.1, 1, 10, 100, 1000]\n",
    "layer_sizes = [10, 20, 30, 40, 50, 60]\n",
    "best_val_err = float('inf'); best_alpha = None; best_size = None\n",
    "for size in layer_sizes:\n",
    "    for alpha in alphas:\n",
    "        full_pipeline.set_params(mlpclassifier__alpha = alpha, mlpclassifier__hidden_layer_sizes = size)\n",
    "        train_error = full_pipeline.fit(train_X_df, train_y_sr).score(train_X_df, train_y_sr)\n",
    "        train_errs.append((1 - train_error) * 100)\n",
    "        full_pipeline.predict(val_X_df)\n",
    "        pred_error = 1 - full_pipeline.score(val_X_df, val_y_sr)\n",
    "        val_errs.append(pred_error * 100) \n",
    "        if pred_error < best_val_err:\n",
    "            best_val_err = pred_error\n",
    "            best_alpha = alpha\n",
    "            best_size = size\n",
    "best_val_err = best_val_err * 100\n",
    "'Finish!'"
   ]
  },
  {
   "cell_type": "code",
   "execution_count": 40,
   "metadata": {},
   "outputs": [
    {
     "name": "stdout",
     "output_type": "stream",
     "text": [
      "9.81481481481481\n",
      "100\n",
      "10\n"
     ]
    }
   ],
   "source": [
    "print(best_val_err)\n",
    "print(best_alpha)\n",
    "print(best_size)"
   ]
  },
  {
   "cell_type": "code",
   "execution_count": 41,
   "metadata": {},
   "outputs": [
    {
     "data": {
      "image/png": "[encoded data removed]",
      "text/plain": [
       "<Figure size 720x360 with 2 Axes>"
      ]
     },
     "metadata": {
      "needs_background": "light"
     },
     "output_type": "display_data"
    }
   ],
   "source": [
    "train_errs_df = pd.DataFrame(data=np.array(train_errs).reshape(len(alphas), -1),\n",
    "                             index=layer_sizes, columns=alphas)\n",
    "val_errs_df = pd.DataFrame(data=np.array(val_errs).reshape(len(alphas), -1), \n",
    "                           index=layer_sizes, columns=alphas)\n",
    "min_err = min(min(train_errs), min(val_errs))\n",
    "max_err = max(max(train_errs), max(val_errs))\n",
    "plt.figure(figsize=(10, 5))\n",
    "plt.subplot(1, 2, 1)\n",
    "sns.heatmap(train_errs_df, vmin=min_err, vmax=max_err, square=True, annot=True, \n",
    "            cbar=False, fmt='.1f', cmap='Reds')\n",
    "plt.title('train errors'); plt.xlabel('alpha'); plt.ylabel('layer_size')\n",
    "plt.subplot(1, 2, 2)\n",
    "sns.heatmap(val_errs_df, vmin=min_err, vmax=max_err, square=True, annot=True, \n",
    "            cbar=False, fmt='.1f', cmap='Reds')\n",
    "plt.title('validation errors'); plt.xlabel('alpha'); plt.ylabel('layer_size');"
   ]
  }
 ],
 "metadata": {
  "kernelspec": {
   "display_name": "Python 3",
   "language": "python",
   "name": "python3"
  },
  "language_info": {
   "codemirror_mode": {
    "name": "ipython",
    "version": 3
   },
   "file_extension": ".py",
   "mimetype": "text/x-python",
   "name": "python",
   "nbconvert_exporter": "python",
   "pygments_lexer": "ipython3",
   "version": "3.7.1"
  }
 },
 "nbformat": 4,
 "nbformat_minor": 2
}

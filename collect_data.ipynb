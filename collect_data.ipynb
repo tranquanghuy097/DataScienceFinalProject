{
 "cells": [
  {
   "cell_type": "code",
   "execution_count": 1,
   "metadata": {},
   "outputs": [],
   "source": [
    "import pandas as pd\n",
    "from requests_html import HTMLSession, HTML\n",
    "from selenium import webdriver\n",
    "from selenium.common.exceptions import NoSuchElementException  "
   ]
  },
  {
   "cell_type": "code",
   "execution_count": 2,
   "metadata": {},
   "outputs": [],
   "source": [
    "browser = webdriver.Chrome(executable_path='chromedriver.exe')"
   ]
  },
  {
   "cell_type": "code",
   "execution_count": 29,
   "metadata": {},
   "outputs": [],
   "source": [
    "good_data = pd.read_csv(\"links.csv\") "
   ]
  },
  {
   "cell_type": "code",
   "execution_count": 6,
   "metadata": {},
   "outputs": [],
   "source": [
    "bad_data = pd.read_csv(\"low_rating_book.csv\") "
   ]
  },
  {
   "cell_type": "code",
   "execution_count": 30,
   "metadata": {},
   "outputs": [],
   "source": [
    "names = []\n",
    "author = []\n",
    "genre = []\n",
    "forma = []\n",
    "pages = []\n",
    "language = []\n",
    "quality = []"
   ]
  },
  {
   "cell_type": "code",
   "execution_count": 31,
   "metadata": {},
   "outputs": [],
   "source": [
    "for link in good_data['links']:\n",
    "    browser.get(link)\n",
    "    findable_html = HTML(html=browser.page_source)\n",
    "    if findable_html.find('#bookTitle', first = True) == None:\n",
    "        names.append(None)\n",
    "    else:\n",
    "        names.append(findable_html.find('#bookTitle', first = True).text)\n",
    "    if findable_html.find('span[itemprop=\"name\"]', first = True) == None:\n",
    "        author.append(None)\n",
    "    else:\n",
    "        author.append(findable_html.find('span[itemprop=\"name\"]', first = True).text)\n",
    "    if findable_html.find('.bookPageGenreLink', first = True) == None:\n",
    "        genre.append(None)\n",
    "    else:\n",
    "        genre.append(findable_html.find('.bookPageGenreLink', first = True).text)\n",
    "    if findable_html.find('span[itemprop=\"bookFormat\"]', first = True) == None:\n",
    "        forma.append(None)\n",
    "    else:\n",
    "        forma.append(findable_html.find('span[itemprop=\"bookFormat\"]', first = True).text)\n",
    "    if findable_html.find('span[itemprop=\"numberOfPages\"]', first = True) == None:\n",
    "        pages.append(0)\n",
    "    else:\n",
    "        num = findable_html.find('span[itemprop=\"numberOfPages\"]', first = True).text\n",
    "        num = int(num.split()[0])\n",
    "        pages.append(num)  \n",
    "    if findable_html.find('div[itemprop=\"inLanguage\"]', first = True) == None:\n",
    "        language.append(None)\n",
    "    else:\n",
    "        language.append(findable_html.find('div[itemprop=\"inLanguage\"]', first = True).text)\n",
    "    rating.append(True)"
   ]
  },
  {
   "cell_type": "code",
   "execution_count": 31,
   "metadata": {},
   "outputs": [],
   "source": [
    "for link in bad_data['links']:\n",
    "    browser.get(link)\n",
    "    findable_html = HTML(html=browser.page_source)\n",
    "    if findable_html.find('#bookTitle', first = True) == None:\n",
    "        names.append(None)\n",
    "    else:\n",
    "        names.append(findable_html.find('#bookTitle', first = True).text)\n",
    "    if findable_html.find('span[itemprop=\"name\"]', first = True) == None:\n",
    "        author.append(None)\n",
    "    else:\n",
    "        author.append(findable_html.find('span[itemprop=\"name\"]', first = True).text)\n",
    "    if findable_html.find('.bookPageGenreLink', first = True) == None:\n",
    "        genre.append(None)\n",
    "    else:\n",
    "        genre.append(findable_html.find('.bookPageGenreLink', first = True).text)\n",
    "    if findable_html.find('span[itemprop=\"bookFormat\"]', first = True) == None:\n",
    "        forma.append(None)\n",
    "    else:\n",
    "        forma.append(findable_html.find('span[itemprop=\"bookFormat\"]', first = True).text)\n",
    "    if findable_html.find('span[itemprop=\"numberOfPages\"]', first = True) == None:\n",
    "        pages.append(0)\n",
    "    else:\n",
    "        num = findable_html.find('span[itemprop=\"numberOfPages\"]', first = True).text\n",
    "        num = int(num.split()[0])\n",
    "        pages.append(num)  \n",
    "    if findable_html.find('div[itemprop=\"inLanguage\"]', first = True) == None:\n",
    "        language.append(None)\n",
    "    else:\n",
    "        language.append(findable_html.find('div[itemprop=\"inLanguage\"]', first = True).text)\n",
    "    rating.append(False)"
   ]
  },
  {
   "cell_type": "code",
   "execution_count": 32,
   "metadata": {},
   "outputs": [],
   "source": [
    "l = list(zip(names, author, genre, forma, pages, language, num_rating, review, good))"
   ]
  },
  {
   "cell_type": "code",
   "execution_count": 23,
   "metadata": {},
   "outputs": [],
   "source": [
    "df = pd.DataFrame(l, columns=['title','author','genre','format','num_of_pages','language', 'num_rating','num_review','rating'])\n",
    "df.to_csv('train.csv', mode = 'a', header=False)"
   ]
  },
  {
   "cell_type": "code",
   "execution_count": 35,
   "metadata": {},
   "outputs": [],
   "source": [
    "df = pd.DataFrame(l, columns=['title','author','genre','format','num_of_pages','language', 'num_rating','num_review','rating'])\n",
    "df.to_csv('test.csv', mode = 'a', header=False)"
   ]
  }
 ],
 "metadata": {
  "kernelspec": {
   "display_name": "Python 3",
   "language": "python",
   "name": "python3"
  },
  "language_info": {
   "codemirror_mode": {
    "name": "ipython",
    "version": 3
   },
   "file_extension": ".py",
   "mimetype": "text/x-python",
   "name": "python",
   "nbconvert_exporter": "python",
   "pygments_lexer": "ipython3",
   "version": "3.7.1"
  }
 },
 "nbformat": 4,
 "nbformat_minor": 2
}
